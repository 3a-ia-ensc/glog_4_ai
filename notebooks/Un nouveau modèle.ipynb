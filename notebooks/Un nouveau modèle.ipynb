{
 "cells": [
  {
   "cell_type": "code",
   "execution_count": 1,
   "metadata": {},
   "outputs": [],
   "source": [
    "from os import path\n",
    "import string\n",
    "import sys\n",
    "sys.path.append(\"..\")\n",
    "\n",
    "import pandas as pd\n",
    "\n",
    "from src.Dataset import Dataset\n",
    "from src.visualisations import *\n",
    "from src.data_processing import *\n",
    "from src.model import *\n",
    "import re"
   ]
  },
  {
   "cell_type": "code",
   "execution_count": 2,
   "metadata": {},
   "outputs": [
    {
     "name": "stdout",
     "output_type": "stream",
     "text": [
      "Loaded 7100 rows\n"
     ]
    }
   ],
   "source": [
    "train_set = path.join('..', 'data', 'training_set.json')\n",
    "test_set = path.join('..', 'data', 'testing_set.json')\n",
    "data = Dataset(train_set, test_set)"
   ]
  },
  {
   "cell_type": "markdown",
   "metadata": {},
   "source": [
    "# Création d'un nouveau modèle\n",
    "## Traitement des données\n",
    "### Traitement du déséquilibre interclasses\n",
    "Avant toute chose, il est nécessaire de résoudre le problème du déséquilibre entre le nombre de phrases dans chaque classe.\n",
    "Pour cela, nous avons décidé de simplement retirer un certain nombre de phrases (aléatoirement) de la classe \"irrelevant\" afin que toutes les classes aient en moyenne à peu près le même nombre de phrases que les autres classes\n",
    "\n",
    "Peut-être :\n",
    "- Tout mettre au meme niveau\n",
    "- Data augmentation"
   ]
  },
  {
   "cell_type": "code",
   "execution_count": 3,
   "metadata": {},
   "outputs": [],
   "source": [
    "balanced_data = balance(data)"
   ]
  },
  {
   "cell_type": "markdown",
   "metadata": {},
   "source": [
    "### Préparation pour l'entrainement\n",
    "#### Vectorisation\n",
    "On vectorise tout"
   ]
  },
  {
   "cell_type": "code",
   "execution_count": 4,
   "metadata": {},
   "outputs": [],
   "source": [
    "vectorized_sentences = vectorize_data(balanced_data['sentence'])"
   ]
  },
  {
   "cell_type": "markdown",
   "metadata": {},
   "source": [
    "#### One hot encodage"
   ]
  },
  {
   "cell_type": "code",
   "execution_count": 5,
   "metadata": {},
   "outputs": [],
   "source": [
    "one_hot_labels = to_one_hot(balanced_data['intent'])"
   ]
  },
  {
   "cell_type": "markdown",
   "metadata": {},
   "source": [
    "## Le modèle"
   ]
  },
  {
   "cell_type": "code",
   "execution_count": 6,
   "metadata": {},
   "outputs": [
    {
     "name": "stdout",
     "output_type": "stream",
     "text": [
      "Model: \"sequential\"\n",
      "_________________________________________________________________\n",
      "Layer (type)                 Output Shape              Param #   \n",
      "=================================================================\n",
      "dense (Dense)                (None, 100)               505900    \n",
      "_________________________________________________________________\n",
      "dense_1 (Dense)              (None, 50)                5050      \n",
      "_________________________________________________________________\n",
      "dense_2 (Dense)              (None, 8)                 408       \n",
      "=================================================================\n",
      "Total params: 511,358\n",
      "Trainable params: 511,358\n",
      "Non-trainable params: 0\n",
      "_________________________________________________________________\n",
      "None\n"
     ]
    }
   ],
   "source": [
    "model = Model(vectorized_sentences.shape[1])\n",
    "model.summary()"
   ]
  },
  {
   "cell_type": "markdown",
   "metadata": {},
   "source": [
    "On redécoupe les données en en gardant 20% pour tester le modèle"
   ]
  },
  {
   "cell_type": "code",
   "execution_count": 7,
   "metadata": {},
   "outputs": [
    {
     "data": {
      "text/plain": [
       "(2883, 5058)"
      ]
     },
     "execution_count": 7,
     "metadata": {},
     "output_type": "execute_result"
    }
   ],
   "source": [
    "vectorized_sentences.shape"
   ]
  },
  {
   "cell_type": "code",
   "execution_count": 8,
   "metadata": {},
   "outputs": [
    {
     "data": {
      "text/plain": [
       "(2883, 8)"
      ]
     },
     "execution_count": 8,
     "metadata": {},
     "output_type": "execute_result"
    }
   ],
   "source": [
    "one_hot_labels.shape"
   ]
  },
  {
   "cell_type": "code",
   "execution_count": 9,
   "metadata": {},
   "outputs": [],
   "source": [
    "sentences_train, sentences_test, y_train, y_test = cut_data(vectorized_sentences, one_hot_labels, 0.2)"
   ]
  },
  {
   "cell_type": "markdown",
   "metadata": {},
   "source": [
    "On entraine le modèle"
   ]
  },
  {
   "cell_type": "code",
   "execution_count": 10,
   "metadata": {},
   "outputs": [
    {
     "name": "stdout",
     "output_type": "stream",
     "text": [
      "Epoch 1/100\n",
      "231/231 [==============================] - 0s 2ms/step - loss: 1.4552 - accuracy: 0.5026 - val_loss: 0.7707 - val_accuracy: 0.8007\n",
      "Epoch 2/100\n",
      "231/231 [==============================] - 0s 1ms/step - loss: 0.3483 - accuracy: 0.9267 - val_loss: 0.4874 - val_accuracy: 0.8614\n",
      "Epoch 3/100\n",
      "231/231 [==============================] - 0s 1ms/step - loss: 0.0742 - accuracy: 0.9905 - val_loss: 0.4714 - val_accuracy: 0.8579\n",
      "Epoch 4/100\n",
      "231/231 [==============================] - 0s 1ms/step - loss: 0.0215 - accuracy: 0.9987 - val_loss: 0.4894 - val_accuracy: 0.8527\n",
      "Epoch 5/100\n",
      "231/231 [==============================] - 0s 1ms/step - loss: 0.0097 - accuracy: 0.9996 - val_loss: 0.5084 - val_accuracy: 0.8544\n",
      "Epoch 6/100\n",
      "231/231 [==============================] - 0s 1ms/step - loss: 0.0054 - accuracy: 1.0000 - val_loss: 0.5287 - val_accuracy: 0.8579\n",
      "Epoch 7/100\n",
      "231/231 [==============================] - 0s 1ms/step - loss: 0.0035 - accuracy: 1.0000 - val_loss: 0.5537 - val_accuracy: 0.8579\n",
      "Epoch 8/100\n",
      "231/231 [==============================] - 0s 1ms/step - loss: 0.0024 - accuracy: 1.0000 - val_loss: 0.5685 - val_accuracy: 0.8562\n",
      "Epoch 9/100\n",
      "231/231 [==============================] - 0s 2ms/step - loss: 0.0017 - accuracy: 1.0000 - val_loss: 0.5837 - val_accuracy: 0.8562\n",
      "Epoch 10/100\n",
      "231/231 [==============================] - 0s 1ms/step - loss: 0.0013 - accuracy: 1.0000 - val_loss: 0.5992 - val_accuracy: 0.8544\n",
      "Epoch 11/100\n",
      "231/231 [==============================] - 0s 1ms/step - loss: 9.9533e-04 - accuracy: 1.0000 - val_loss: 0.6137 - val_accuracy: 0.8527\n",
      "Epoch 12/100\n",
      "231/231 [==============================] - 0s 1ms/step - loss: 7.7271e-04 - accuracy: 1.0000 - val_loss: 0.6240 - val_accuracy: 0.8527\n",
      "Epoch 13/100\n",
      "231/231 [==============================] - 0s 1ms/step - loss: 6.1847e-04 - accuracy: 1.0000 - val_loss: 0.6378 - val_accuracy: 0.8492\n",
      "Epoch 14/100\n",
      "231/231 [==============================] - 0s 1ms/step - loss: 5.0745e-04 - accuracy: 1.0000 - val_loss: 0.6524 - val_accuracy: 0.8510\n",
      "Epoch 15/100\n",
      "231/231 [==============================] - 0s 1ms/step - loss: 4.1061e-04 - accuracy: 1.0000 - val_loss: 0.6647 - val_accuracy: 0.8527\n",
      "Epoch 16/100\n",
      "231/231 [==============================] - 0s 2ms/step - loss: 3.4062e-04 - accuracy: 1.0000 - val_loss: 0.6756 - val_accuracy: 0.8492\n",
      "Epoch 17/100\n",
      "231/231 [==============================] - 0s 1ms/step - loss: 2.8146e-04 - accuracy: 1.0000 - val_loss: 0.6874 - val_accuracy: 0.8423\n",
      "Epoch 18/100\n",
      "231/231 [==============================] - 0s 1ms/step - loss: 2.3524e-04 - accuracy: 1.0000 - val_loss: 0.6994 - val_accuracy: 0.8492\n",
      "Epoch 19/100\n",
      "231/231 [==============================] - 0s 1ms/step - loss: 1.9549e-04 - accuracy: 1.0000 - val_loss: 0.7139 - val_accuracy: 0.8440\n",
      "Epoch 20/100\n",
      "231/231 [==============================] - 0s 1ms/step - loss: 1.6771e-04 - accuracy: 1.0000 - val_loss: 0.7228 - val_accuracy: 0.8475\n",
      "Epoch 21/100\n",
      "231/231 [==============================] - 0s 1ms/step - loss: 1.3858e-04 - accuracy: 1.0000 - val_loss: 0.7343 - val_accuracy: 0.8492\n",
      "Epoch 22/100\n",
      "231/231 [==============================] - 0s 1ms/step - loss: 1.1951e-04 - accuracy: 1.0000 - val_loss: 0.7463 - val_accuracy: 0.8492\n",
      "Epoch 23/100\n",
      "231/231 [==============================] - 0s 1ms/step - loss: 1.0038e-04 - accuracy: 1.0000 - val_loss: 0.7550 - val_accuracy: 0.8423\n",
      "Epoch 24/100\n",
      "231/231 [==============================] - 0s 1ms/step - loss: 8.6912e-05 - accuracy: 1.0000 - val_loss: 0.7671 - val_accuracy: 0.8458\n",
      "Epoch 25/100\n",
      "231/231 [==============================] - 0s 2ms/step - loss: 7.4446e-05 - accuracy: 1.0000 - val_loss: 0.7781 - val_accuracy: 0.8475\n",
      "Epoch 26/100\n",
      "231/231 [==============================] - 0s 2ms/step - loss: 6.4500e-05 - accuracy: 1.0000 - val_loss: 0.7906 - val_accuracy: 0.8458\n",
      "Epoch 27/100\n",
      "231/231 [==============================] - 0s 1ms/step - loss: 5.3966e-05 - accuracy: 1.0000 - val_loss: 0.8004 - val_accuracy: 0.8440\n",
      "Epoch 28/100\n",
      "231/231 [==============================] - 0s 1ms/step - loss: 4.6498e-05 - accuracy: 1.0000 - val_loss: 0.8122 - val_accuracy: 0.8510\n",
      "Epoch 29/100\n",
      "231/231 [==============================] - 0s 1ms/step - loss: 4.0331e-05 - accuracy: 1.0000 - val_loss: 0.8225 - val_accuracy: 0.8406\n",
      "Epoch 30/100\n",
      "231/231 [==============================] - 0s 1ms/step - loss: 3.4684e-05 - accuracy: 1.0000 - val_loss: 0.8319 - val_accuracy: 0.8475\n",
      "Epoch 31/100\n",
      "231/231 [==============================] - 0s 1ms/step - loss: 3.0030e-05 - accuracy: 1.0000 - val_loss: 0.8425 - val_accuracy: 0.8458\n",
      "Epoch 32/100\n",
      "231/231 [==============================] - 0s 1ms/step - loss: 2.5780e-05 - accuracy: 1.0000 - val_loss: 0.8539 - val_accuracy: 0.8475\n",
      "Epoch 33/100\n",
      "231/231 [==============================] - 0s 2ms/step - loss: 2.2536e-05 - accuracy: 1.0000 - val_loss: 0.8640 - val_accuracy: 0.8475\n",
      "Epoch 34/100\n",
      "231/231 [==============================] - 0s 2ms/step - loss: 1.9575e-05 - accuracy: 1.0000 - val_loss: 0.8739 - val_accuracy: 0.8475\n",
      "Epoch 35/100\n",
      "231/231 [==============================] - 0s 2ms/step - loss: 1.6890e-05 - accuracy: 1.0000 - val_loss: 0.8839 - val_accuracy: 0.8475\n",
      "Epoch 36/100\n",
      "231/231 [==============================] - 0s 1ms/step - loss: 1.4632e-05 - accuracy: 1.0000 - val_loss: 0.8967 - val_accuracy: 0.8440\n",
      "Epoch 37/100\n",
      "231/231 [==============================] - 0s 1ms/step - loss: 1.2572e-05 - accuracy: 1.0000 - val_loss: 0.9065 - val_accuracy: 0.8458\n",
      "Epoch 38/100\n",
      "231/231 [==============================] - 0s 1ms/step - loss: 1.1104e-05 - accuracy: 1.0000 - val_loss: 0.9172 - val_accuracy: 0.8440\n",
      "Epoch 39/100\n",
      "231/231 [==============================] - 0s 1ms/step - loss: 9.5777e-06 - accuracy: 1.0000 - val_loss: 0.9277 - val_accuracy: 0.8440\n",
      "Epoch 40/100\n",
      "231/231 [==============================] - 0s 1ms/step - loss: 8.4398e-06 - accuracy: 1.0000 - val_loss: 0.9385 - val_accuracy: 0.8458\n",
      "Epoch 41/100\n",
      "231/231 [==============================] - 0s 1ms/step - loss: 7.3191e-06 - accuracy: 1.0000 - val_loss: 0.9493 - val_accuracy: 0.8440\n",
      "Epoch 42/100\n",
      "231/231 [==============================] - 0s 1ms/step - loss: 6.3739e-06 - accuracy: 1.0000 - val_loss: 0.9573 - val_accuracy: 0.8475\n",
      "Epoch 43/100\n",
      "231/231 [==============================] - 0s 1ms/step - loss: 5.5464e-06 - accuracy: 1.0000 - val_loss: 0.9711 - val_accuracy: 0.8423\n",
      "Epoch 44/100\n",
      "231/231 [==============================] - 0s 1ms/step - loss: 4.8420e-06 - accuracy: 1.0000 - val_loss: 0.9799 - val_accuracy: 0.8440\n",
      "Epoch 45/100\n",
      "231/231 [==============================] - 0s 1ms/step - loss: 4.1681e-06 - accuracy: 1.0000 - val_loss: 0.9888 - val_accuracy: 0.8458\n",
      "Epoch 46/100\n",
      "231/231 [==============================] - 0s 1ms/step - loss: 3.6938e-06 - accuracy: 1.0000 - val_loss: 1.0024 - val_accuracy: 0.8440\n",
      "Epoch 47/100\n",
      "231/231 [==============================] - 0s 1ms/step - loss: 3.2349e-06 - accuracy: 1.0000 - val_loss: 1.0109 - val_accuracy: 0.8440\n",
      "Epoch 48/100\n",
      "231/231 [==============================] - 0s 1ms/step - loss: 2.8224e-06 - accuracy: 1.0000 - val_loss: 1.0209 - val_accuracy: 0.8440\n",
      "Epoch 49/100\n",
      "231/231 [==============================] - 0s 1ms/step - loss: 2.4561e-06 - accuracy: 1.0000 - val_loss: 1.0321 - val_accuracy: 0.8440\n",
      "Epoch 50/100\n",
      "231/231 [==============================] - 0s 1ms/step - loss: 2.1597e-06 - accuracy: 1.0000 - val_loss: 1.0431 - val_accuracy: 0.8440\n",
      "Epoch 51/100\n",
      "231/231 [==============================] - 0s 1ms/step - loss: 1.8843e-06 - accuracy: 1.0000 - val_loss: 1.0534 - val_accuracy: 0.8440\n",
      "Epoch 52/100\n",
      "231/231 [==============================] - 0s 1ms/step - loss: 1.6369e-06 - accuracy: 1.0000 - val_loss: 1.0623 - val_accuracy: 0.8458\n",
      "Epoch 53/100\n",
      "231/231 [==============================] - 0s 1ms/step - loss: 1.4411e-06 - accuracy: 1.0000 - val_loss: 1.0734 - val_accuracy: 0.8458\n",
      "Epoch 54/100\n",
      "231/231 [==============================] - 0s 1ms/step - loss: 1.2706e-06 - accuracy: 1.0000 - val_loss: 1.0853 - val_accuracy: 0.8458\n",
      "Epoch 55/100\n",
      "231/231 [==============================] - 0s 1ms/step - loss: 1.1131e-06 - accuracy: 1.0000 - val_loss: 1.0926 - val_accuracy: 0.8458\n",
      "Epoch 56/100\n",
      "231/231 [==============================] - 0s 1ms/step - loss: 9.9543e-07 - accuracy: 1.0000 - val_loss: 1.1077 - val_accuracy: 0.8440\n"
     ]
    },
    {
     "name": "stdout",
     "output_type": "stream",
     "text": [
      "Epoch 57/100\n",
      "231/231 [==============================] - 0s 1ms/step - loss: 8.4940e-07 - accuracy: 1.0000 - val_loss: 1.1170 - val_accuracy: 0.8440\n",
      "Epoch 58/100\n",
      "231/231 [==============================] - 0s 1ms/step - loss: 7.4374e-07 - accuracy: 1.0000 - val_loss: 1.1281 - val_accuracy: 0.8458\n",
      "Epoch 59/100\n",
      "231/231 [==============================] - 0s 1ms/step - loss: 6.4965e-07 - accuracy: 1.0000 - val_loss: 1.1370 - val_accuracy: 0.8458\n",
      "Epoch 60/100\n",
      "231/231 [==============================] - 0s 1ms/step - loss: 5.7185e-07 - accuracy: 1.0000 - val_loss: 1.1457 - val_accuracy: 0.8423\n",
      "Epoch 61/100\n",
      "231/231 [==============================] - 0s 1ms/step - loss: 5.0429e-07 - accuracy: 1.0000 - val_loss: 1.1557 - val_accuracy: 0.8440\n",
      "Epoch 62/100\n",
      "231/231 [==============================] - 0s 1ms/step - loss: 4.4515e-07 - accuracy: 1.0000 - val_loss: 1.1663 - val_accuracy: 0.8440\n",
      "Epoch 63/100\n",
      "231/231 [==============================] - 0s 1ms/step - loss: 3.9128e-07 - accuracy: 1.0000 - val_loss: 1.1775 - val_accuracy: 0.8406\n",
      "Epoch 64/100\n",
      "231/231 [==============================] - 0s 1ms/step - loss: 3.4641e-07 - accuracy: 1.0000 - val_loss: 1.1874 - val_accuracy: 0.8475\n",
      "Epoch 65/100\n",
      "231/231 [==============================] - 0s 1ms/step - loss: 3.0045e-07 - accuracy: 1.0000 - val_loss: 1.1993 - val_accuracy: 0.8475\n",
      "Epoch 66/100\n",
      "231/231 [==============================] - 0s 1ms/step - loss: 2.6483e-07 - accuracy: 1.0000 - val_loss: 1.2057 - val_accuracy: 0.8423\n",
      "Epoch 67/100\n",
      "231/231 [==============================] - 0s 1ms/step - loss: 2.3464e-07 - accuracy: 1.0000 - val_loss: 1.2176 - val_accuracy: 0.8440\n",
      "Epoch 68/100\n",
      "231/231 [==============================] - 0s 1ms/step - loss: 2.0518e-07 - accuracy: 1.0000 - val_loss: 1.2247 - val_accuracy: 0.8423\n",
      "Epoch 69/100\n",
      "231/231 [==============================] - 0s 1ms/step - loss: 1.8197e-07 - accuracy: 1.0000 - val_loss: 1.2377 - val_accuracy: 0.8475\n",
      "Epoch 70/100\n",
      "231/231 [==============================] - 0s 1ms/step - loss: 1.6036e-07 - accuracy: 1.0000 - val_loss: 1.2475 - val_accuracy: 0.8475\n",
      "Epoch 71/100\n",
      "231/231 [==============================] - 0s 1ms/step - loss: 1.4206e-07 - accuracy: 1.0000 - val_loss: 1.2563 - val_accuracy: 0.8423\n",
      "Epoch 72/100\n",
      "231/231 [==============================] - 0s 1ms/step - loss: 1.2402e-07 - accuracy: 1.0000 - val_loss: 1.2665 - val_accuracy: 0.8475\n",
      "Epoch 73/100\n",
      "231/231 [==============================] - 0s 1ms/step - loss: 1.0996e-07 - accuracy: 1.0000 - val_loss: 1.2791 - val_accuracy: 0.8475\n",
      "Epoch 74/100\n",
      "231/231 [==============================] - 0s 1ms/step - loss: 9.6205e-08 - accuracy: 1.0000 - val_loss: 1.2866 - val_accuracy: 0.8458\n",
      "Epoch 75/100\n",
      "231/231 [==============================] - 0s 1ms/step - loss: 8.3488e-08 - accuracy: 1.0000 - val_loss: 1.2933 - val_accuracy: 0.8458\n",
      "Epoch 76/100\n",
      "231/231 [==============================] - 0s 1ms/step - loss: 7.4131e-08 - accuracy: 1.0000 - val_loss: 1.3065 - val_accuracy: 0.8458\n",
      "Epoch 77/100\n",
      "231/231 [==============================] - 0s 1ms/step - loss: 6.5343e-08 - accuracy: 1.0000 - val_loss: 1.3134 - val_accuracy: 0.8423\n",
      "Epoch 78/100\n",
      "231/231 [==============================] - 0s 1ms/step - loss: 5.6658e-08 - accuracy: 1.0000 - val_loss: 1.3255 - val_accuracy: 0.8440\n",
      "Epoch 79/100\n",
      "231/231 [==============================] - 0s 1ms/step - loss: 5.0920e-08 - accuracy: 1.0000 - val_loss: 1.3323 - val_accuracy: 0.8423\n",
      "Epoch 80/100\n",
      "231/231 [==============================] - 0s 1ms/step - loss: 4.3838e-08 - accuracy: 1.0000 - val_loss: 1.3416 - val_accuracy: 0.8423\n",
      "Epoch 81/100\n",
      "231/231 [==============================] - 0s 1ms/step - loss: 3.8823e-08 - accuracy: 1.0000 - val_loss: 1.3510 - val_accuracy: 0.8440\n",
      "Epoch 82/100\n",
      "231/231 [==============================] - 0s 1ms/step - loss: 3.2723e-08 - accuracy: 1.0000 - val_loss: 1.3568 - val_accuracy: 0.8388\n",
      "Epoch 83/100\n",
      "231/231 [==============================] - 0s 1ms/step - loss: 2.9156e-08 - accuracy: 1.0000 - val_loss: 1.3677 - val_accuracy: 0.8406\n",
      "Epoch 84/100\n",
      "231/231 [==============================] - 0s 1ms/step - loss: 2.5537e-08 - accuracy: 1.0000 - val_loss: 1.3769 - val_accuracy: 0.8406\n",
      "Epoch 85/100\n",
      "231/231 [==============================] - 0s 1ms/step - loss: 2.2487e-08 - accuracy: 1.0000 - val_loss: 1.3834 - val_accuracy: 0.8406\n",
      "Epoch 86/100\n",
      "231/231 [==============================] - 0s 1ms/step - loss: 2.0006e-08 - accuracy: 1.0000 - val_loss: 1.3920 - val_accuracy: 0.8406\n",
      "Epoch 87/100\n",
      "231/231 [==============================] - 0s 1ms/step - loss: 1.7835e-08 - accuracy: 1.0000 - val_loss: 1.3955 - val_accuracy: 0.8406\n",
      "Epoch 88/100\n",
      "231/231 [==============================] - 0s 1ms/step - loss: 1.6026e-08 - accuracy: 1.0000 - val_loss: 1.4073 - val_accuracy: 0.8423\n",
      "Epoch 89/100\n",
      "231/231 [==============================] - 0s 1ms/step - loss: 1.3958e-08 - accuracy: 1.0000 - val_loss: 1.4140 - val_accuracy: 0.8406\n",
      "Epoch 90/100\n",
      "231/231 [==============================] - 0s 1ms/step - loss: 1.2717e-08 - accuracy: 1.0000 - val_loss: 1.4223 - val_accuracy: 0.8388\n",
      "Epoch 91/100\n",
      "231/231 [==============================] - 0s 1ms/step - loss: 1.0753e-08 - accuracy: 1.0000 - val_loss: 1.4275 - val_accuracy: 0.8388\n",
      "Epoch 92/100\n",
      "231/231 [==============================] - 0s 1ms/step - loss: 9.4602e-09 - accuracy: 1.0000 - val_loss: 1.4361 - val_accuracy: 0.8388\n",
      "Epoch 93/100\n",
      "231/231 [==============================] - 0s 1ms/step - loss: 7.8577e-09 - accuracy: 1.0000 - val_loss: 1.4417 - val_accuracy: 0.8388\n",
      "Epoch 94/100\n",
      "231/231 [==============================] - 0s 1ms/step - loss: 6.9789e-09 - accuracy: 1.0000 - val_loss: 1.4485 - val_accuracy: 0.8388\n",
      "Epoch 95/100\n",
      "231/231 [==============================] - 0s 1ms/step - loss: 6.4102e-09 - accuracy: 1.0000 - val_loss: 1.4550 - val_accuracy: 0.8354\n",
      "Epoch 96/100\n",
      "231/231 [==============================] - 0s 1ms/step - loss: 5.6348e-09 - accuracy: 1.0000 - val_loss: 1.4656 - val_accuracy: 0.8354\n",
      "Epoch 97/100\n",
      "231/231 [==============================] - 0s 1ms/step - loss: 5.2212e-09 - accuracy: 1.0000 - val_loss: 1.4669 - val_accuracy: 0.8354\n",
      "Epoch 98/100\n",
      "231/231 [==============================] - 0s 1ms/step - loss: 4.7043e-09 - accuracy: 1.0000 - val_loss: 1.4776 - val_accuracy: 0.8371\n",
      "Epoch 99/100\n",
      "231/231 [==============================] - 0s 1ms/step - loss: 3.8771e-09 - accuracy: 1.0000 - val_loss: 1.4819 - val_accuracy: 0.8371\n",
      "Epoch 100/100\n",
      "231/231 [==============================] - 0s 1ms/step - loss: 3.5670e-09 - accuracy: 1.0000 - val_loss: 1.4925 - val_accuracy: 0.8336\n"
     ]
    }
   ],
   "source": [
    "model.train(sentences_train, y_train, sentences_test, y_test, True)"
   ]
  },
  {
   "cell_type": "markdown",
   "metadata": {},
   "source": [
    "## Evaluations\n",
    "Evaluons le modèle pour le comparer avec le modèle que nous avions précédemment"
   ]
  },
  {
   "cell_type": "code",
   "execution_count": null,
   "metadata": {},
   "outputs": [],
   "source": []
  },
  {
   "cell_type": "markdown",
   "metadata": {},
   "source": [
    "## Sauvegarde\n",
    "Pour finir, on sauvegarde le modèle afin de l'utiliser dans une API"
   ]
  },
  {
   "cell_type": "code",
   "execution_count": 12,
   "metadata": {},
   "outputs": [
    {
     "name": "stdout",
     "output_type": "stream",
     "text": [
      "WARNING:tensorflow:From /Library/Frameworks/Python.framework/Versions/3.8/lib/python3.8/site-packages/tensorflow/python/training/tracking/tracking.py:111: Model.state_updates (from tensorflow.python.keras.engine.training) is deprecated and will be removed in a future version.\n",
      "Instructions for updating:\n",
      "This property should not be used in TensorFlow 2.0, as updates are applied automatically.\n",
      "WARNING:tensorflow:From /Library/Frameworks/Python.framework/Versions/3.8/lib/python3.8/site-packages/tensorflow/python/training/tracking/tracking.py:111: Layer.updates (from tensorflow.python.keras.engine.base_layer) is deprecated and will be removed in a future version.\n",
      "Instructions for updating:\n",
      "This property should not be used in TensorFlow 2.0, as updates are applied automatically.\n",
      "INFO:tensorflow:Assets written to: ../models/simple_model/assets\n"
     ]
    }
   ],
   "source": [
    "model.save_model('simple_model')"
   ]
  },
  {
   "cell_type": "raw",
   "metadata": {},
   "source": [
    "import nltk\n",
    "nltk.download('omw')\n",
    "\n",
    "syn = [synset.lemma_names('fra') for synset in wordnet.synsets('programme', lang='fra')]\n",
    "print(syn)"
   ]
  }
 ],
 "metadata": {
  "kernelspec": {
   "display_name": "Python 3",
   "language": "python",
   "name": "python3"
  },
  "language_info": {
   "codemirror_mode": {
    "name": "ipython",
    "version": 3
   },
   "file_extension": ".py",
   "mimetype": "text/x-python",
   "name": "python",
   "nbconvert_exporter": "python",
   "pygments_lexer": "ipython3",
   "version": "3.8.6"
  }
 },
 "nbformat": 4,
 "nbformat_minor": 4
}
